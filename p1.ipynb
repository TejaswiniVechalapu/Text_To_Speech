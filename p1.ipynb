{
  "cells": [
    {
      "cell_type": "markdown",
      "metadata": {
        "id": "view-in-github",
        "colab_type": "text"
      },
      "source": [
        "<a href=\"https://colab.research.google.com/github/TejaswiniVechalapu/Text_To_Speech/blob/main/p1.ipynb\" target=\"_parent\"><img src=\"https://colab.research.google.com/assets/colab-badge.svg\" alt=\"Open In Colab\"/></a>"
      ]
    },
    {
      "cell_type": "markdown",
      "metadata": {
        "id": "hPCJoplwG6tU"
      },
      "source": [
        "**Text To Audio**  \n",
        "https://www.w3schools.com/python/python_pip.asp ***\n",
        "https://gtts.readthedocs.io/en/latest/module.html  ***\n",
        "https://www.geeksforgeeks.org/convert-text-speech-python/ ***\n",
        "IPython. display. Audio lets you play audio directly in an IPython notebook"
      ]
    },
    {
      "cell_type": "code",
      "execution_count": 1,
      "metadata": {
        "colab": {
          "base_uri": "https://localhost:8080/"
        },
        "id": "rA6zI4paGZPb",
        "outputId": "72466372-3ad1-458c-c975-38e4f8ebb91d"
      },
      "outputs": [
        {
          "output_type": "stream",
          "name": "stdout",
          "text": [
            "Collecting gTTS\n",
            "  Downloading gTTS-2.5.1-py3-none-any.whl (29 kB)\n",
            "Requirement already satisfied: requests<3,>=2.27 in /usr/local/lib/python3.10/dist-packages (from gTTS) (2.31.0)\n",
            "Requirement already satisfied: click<8.2,>=7.1 in /usr/local/lib/python3.10/dist-packages (from gTTS) (8.1.7)\n",
            "Requirement already satisfied: charset-normalizer<4,>=2 in /usr/local/lib/python3.10/dist-packages (from requests<3,>=2.27->gTTS) (3.3.2)\n",
            "Requirement already satisfied: idna<4,>=2.5 in /usr/local/lib/python3.10/dist-packages (from requests<3,>=2.27->gTTS) (3.7)\n",
            "Requirement already satisfied: urllib3<3,>=1.21.1 in /usr/local/lib/python3.10/dist-packages (from requests<3,>=2.27->gTTS) (2.0.7)\n",
            "Requirement already satisfied: certifi>=2017.4.17 in /usr/local/lib/python3.10/dist-packages (from requests<3,>=2.27->gTTS) (2024.7.4)\n",
            "Installing collected packages: gTTS\n",
            "Successfully installed gTTS-2.5.1\n"
          ]
        }
      ],
      "source": [
        "pip install gTTS"
      ]
    },
    {
      "cell_type": "code",
      "execution_count": 2,
      "metadata": {
        "id": "1HCxjTO-Ee8H"
      },
      "outputs": [],
      "source": [
        "from gtts import gTTS\n",
        "text1=\"Good morning Everyone\"\n",
        "language=\"te\"\n",
        "t=gTTS(text=text1,lang=language,slow=False)\n",
        "t.save(\"/content/w.mp3\")"
      ]
    },
    {
      "cell_type": "code",
      "execution_count": 3,
      "metadata": {
        "colab": {
          "base_uri": "https://localhost:8080/",
          "height": 76
        },
        "id": "wAAi98bHKIRY",
        "outputId": "bc2b2f25-6e00-41dd-cd2c-4f2992b4780a"
      },
      "outputs": [
        {
          "output_type": "execute_result",
          "data": {
            "text/plain": [
              "<IPython.lib.display.Audio object>"
            ],
            "text/html": [
              "\n",
              "                <audio  controls=\"controls\" >\n",
              "                    <source src=\"data:audio/mpeg;base64,//OExAAAAAAAAAAAAAAAAAAAAAAAAAAAAAAAAAAAAAAAAAAAAAAAAAAAAAAAAAAAAAAAAAAAAAAAAAAAAAAAAAAAAAAAAAAAAAAAAAAAAAAAAAAAAAAAAAAAAAAAAAAAAAAAAAAAAAAAAAAAAAAAAAAAAAAAAAAAAAAAAAAAAAAAAAAAAAAAAAAAAAAAAAAAAAAAAAAAAAAAAAAAAAAAAAAAAAAAAAAAAAAAAAAAAAAAAAAAAAAAAAAAAAAAAAAA//OExAAAAANIAUAAAP9XAWDHYHEqzvQEgMmDOO5WR/r/sKvZzxHB24LwgXwfg7F7AMFwWCf+QMYXBILRYb/MMfHlHx0Tin+Qz3kAhFx84dM/7aMefPHSZA4s44Lzv/8g1zDDz3MJsaLJIbGjY8wn//7T/kz557nnlxw8oh5IeID4uLRQNRv///56nvV59/mfEYanBMOkRQOkJxrHIOkDyZADMJAZMFQcMDAzMbxoNxKINrEYPAqQMzQ1Mhh2Mdyn//OExLMlRDIoAZo4ATNcoTGw7jMwmjAIKzCkHxECxhQEBg0CQCCdpDaI3svk7luU4h/cqHkSodBIEg2JYTlsur3jhImic+saw4W344UQbMV6LDxqJexXYr5BbLLNpsMsc3fa35ZzmetcmPd7+1ZExVZ7lOlZf5vW+e/+XvTNfvtph+lPQ192977uUcl3Z7cOHKtw70ve+84wthaTtxdmUuzvT1K0PK3j6WdtTr0qfv/8zFF9GHf9Y/tf/q5bobx7//OExNE5JDooAd1gAE9XbqvXYtsNrRw0rNL9BS32luH1WHDAAgKAAYHICBifJaG5Mw+Ztw8phvAlgoFUwSxaTDHEWMNkAgwGAEwgDkCAAGBIDwYFQIo0CzSCEAUwEwKxAAQDGSCkPQMlks1narGaE4JR8w5hvvHcfH2sx/bMWLi8HcK+suqxF3NGWGaC4Sa390rnFa03f41b4zvWMdkqopnlWSaVbeICqTyZHn/yX0J0uZGRmRkp3O27K5YfhmqR//OExJ8xU/o8APPG3Zm9Ts3WWseU/JigO18zC/egf9JpGccqqYyEWUZHebeHgVVIkdnolVgBIB0DARmBkAsYTq/RjGhkGEqAskwCANTC4DfUOCAFZY2AyWDNQGVCIehQYYBgs7tiINZd2YwtxmW49CLetoF/To2Mn/5MZOGmycZhxI4mcdJ/aCZFsj7vNRQeUTabfdqbuTrldeC/7fl7fbVvJ/c46E1r6b7bgs/w479eNdf/6rDJtZY3UyAltb3r//OExIwliRpAAPbMcfKX/9I43d778jkqMEAqHiIMYxNMOTTPh9fA4QGKYXgwMTCUlzXETh4elptCMHCSMgQiUrY1LzCIHUmZdDsRr01HMplwhBbwtAUkkmBB65Ta03mo2fNZKLzmkxoMlR7Pzrev7bkvpN7e+2f2jG8vGrvcP/+07nf3Leq8Zf5z3a5PS9N2NtLj2Al9V8wuat7uRvhbpYYe/mSG8xtdaT7eZD/e6d/3ZME8lsGt00nGMGoEM1hi//OExKgogh4wAV0wAUIWCJNZ0JIkB3NRQ0cwKQ/TC5AWMQoA4wkwJTAfA0MJcBwwVQIAwAUwNgL0Eo8C0MADiyG5PeiHDtRSawyuItSTMzyxS2EUFF0Dy39eSRKnpLMnrU3BwQKoAmKol+6W/UllitbooDnLcsBT2QMsL8PvL5rdjtFhjfl9jL8dr/pJ+iv1qbK1f5eqcncNWJj7cqy7QSmLuvKLDuPvD7X7uPMLOf5ZWOd3uxhnYzl8zc1ZiEUb//OExLlIjDooAZ7AAMr0mNBlzn1s/v256p+H37HbPZ+tXoKmNexTc1XwuWM/qVMedoop+FiOz9C+zTHcneZ0nc9/njvOfs38a1furfNWJRZl+Uq/ny6tTZU/LVfd61XoaPU/nI53C1hL3Xllmesw+88xfpo65dVwhCRv1MYAAHm3ZI1IsoHgUor6TWW6wCpKIcrzqxHDsPsw5MQv4jgy9jZdYBcC0WAoasFgty2vsVWPNJ8AZbBGVU5b5v4TRRp7//OExEk4A/KMAZjAAaih+dv4SiPWo1lKr+X1+fcvd1hzWEPVc/tU2fP7jveGGVJvO5LLmfOZXeR+MxXW7/N26tq9jT49//7//nGKPuFzLWu6yu/Wq/rLWef//fz3nnrn5/lGMZyn13LHLmv+5clHMN2ea73n/rWPcLX5b7G8rGH/hnruHMM9d//zwxvzdTWu63rn77zDuWNXG/hYub1+5QF0EX2Yg243Is8YJExoefmSwWIQMX9L7QGWwMXlUBCO//OExBwsgwqIAdx4ABERsymsgpCJ7usmRhq02nXJ+nQzgCgySTlhZggKoPGDZXRY6V+M5pPHfYpa7yPPePRiXLO1NjI4vpX/x9W3A8uPW9vi+M9whu9xXNJMuodsRt+et8Zr/jP1mLiv3rH//3n///3//+8//69/80+caxq/3T636X/a7Yg2eZU8lJZwjUKhsDA6BwbWwwlUucYnQu9CaNHdFqOV3pe6CAcypCTaTWBSgAgGEg4nypUIgaFx4Ah4//OExB0rm3qIAOYQvN5P/HmVDAVRv/R7gFOYaMbGAYDmvMzFQV2GIS6tvHlWArPN1rVeip8v5jrdJj3LHVNu/hS/DTwwXGnYdycv7/MaWXlDYNLMNo40ugaCAYLAtCccQIUwl1NXMff/z8y+8f//8f/99fa9cOypSUPnst3iqyqcdA1hKiBqyyCAWCxBQmDyDD42VpiJnnrsdgRcpTLqlMW5RwK2xg4XgTniwxUMAoETprUuJjsniQHuVJfEpsQA//OExCEt62qIAOZWvJZSpjurKUngUcexVJfxk801pxmaZ65ytSuRY5/7q0sr7//lWmqLP9Y1ZTOOPrOWxn3Zcj8P2wbFZf3bETUzqWnR5BCFYjJplpaqjT+mTS9f/8V9WvN////318Ojc181TYo/cKcoOJ7mst6yFLUa0bZMVWMLKTpBE0nEgRVBHLB6IQ2i9fZMzUOcmbJDAmpKSjVfTi7aH0WW2M5ZD7LAEBmueoLOwCKgwHjkseFHYawRpWnN//OExBwuA6KIAN5avEFyW3OBYGEfZrZTyHhgEwxPWaK9GgYMCwJB3PDcQUUh3L+57ruxf///crg/+/+pKpmkleqZ7ztx5offXTc6PLZBNxrLjmaaI+BVASEexoitBZg1Vl6vrspanqX3/1VpK9NNKtJaSzNq1s6a0FMtSz6kC9MVJmyi+SSzqi0TsnDSRjzmyDmy2daTuqipSnWyTqMl1sx5Z9WH/1xV6JZypRQAqiYeNhSyBVegFSRd5pCKhgg4//OExBcl+xqQAN4KvGpmjIvv2a2LoNtUln16eJiolJUdeb3SPyCrFsWWY0kodhiSua2sft9nLPdYUmMNzl/e43L3gWTAETzqUl2G3Qga1X0LiACgMPcaYRESDBYrUDwCgok7Zxzf//////5dOimf6lNexxVi5ZSqyHFFFXDodKLPzLmLSyg8VLBY841/0GOI/O80VQkwaWzqwpMAiozedhIumFQAIAGNEYABUwwCzCQZFgqzIiUcwqw6nZcWhIrU//OExDIlqxpwAOPEvKX1GIVlSmihpBiFOVmNOEmMAB2MU5mmIcyFM0JPK1Wq3XspTpOU5jSWkNTCFVYnKVMHEiUbl69VpyAQoCFG5WMYxnKrK3LT+3/////+tHr/8z6lmKhqG0K1S0cLfW5R6IgVO/yNGi1GglLrmBINGAYUmPwkH4hxmAo4GA4XjwHhAGmIoQGZKCoGTFZSAbAdqgTlS2Mukzaaq7o5VDz/UcbKiYQilUDjRACRsZBQTgyieV8W//OExE4jAUJAAO4ScHPLPDZbLclsaIZ5aG42yBjXmTyqvNLEQLkbFpQBbbFE2VikfQpsk9NzzFIok8SAz6b1N6t7nr/9p0uh6LlpEAWmBwKlAEmDoBmCg4GUhkHIQ8kRjAoE1lAQETDIPAcCDKVYhJwjZCybnkcyEMviIyOswWmFlrlq+u4t8jW8i7cXBvgTvoM7a/jzXCA2VhhAHLMxhboZqaTJ4p5ua9Oh3IxfADIjK0jR+ncG3790UYa4Ix0z//OExHUoEeI0AOvGmeISrEfpORnDVpX/t8rrdMoBCc7WF79W2r/fEdWfs/Wo1OkFU//iPmMd/t7VVvLWpXFyR0eGL0qfOvxuIEBA6JgmAgAWcEIrMNgO+snicRMhaE8pUkvo9TnOmt3Y49Y8sZuisGcxou86iP8SRW4hk1JESRZR7kNypOds2aeLa9zXb5r53a8XmsWKhkyARVjhbV9if8ucMiy3uJ/p2L0oBkKiO9gqRMDx4rHmgiXQaIV4HoQa//OExIcioZZgAOPMlDTHKoUQASTAI9dYMAExPKk6H6EFEqgoKgBBAGHswLCciNd1XhjN87wBeqKObGwHAWCK9Y66ibcrWP5itGvqJaDBmruBNGhxvSJHlresC0eufm2NX3Te/j3d5atbqZlfkJTr8/m0X+tGT6fR7bKhG7ycmjNZdUXXPjtPOiIQ1NLtZFRWcyim2Q7qEYf3tId0Jj/9XLd/79VP+DVyBUATAwMDFGTzjF3jG8ITBAAAEAhgGAJE//OExK8ko3ZcAOvEvSqYlFYqK1S0kEgBoMs6KRFA4gQ0qnEER8C5TQ2W4xgyrIMgkTZjrOm1aSaBcWgg6zI8zPLh5E00T7LV22Z90akdDqp3dlRkrbZ79afbsrd0bv7+j00azMy+zd20vSrKklG1cjJQ7HVzqi7Md1FyAQCDg8vOrFXq7ltqSqWFSOFABzABA2MDgnE0IhCDBEAhSOeFVxgHBRGI0CyLAQTdifeMwHQCabCknKcGtbzKvKHjUzrW//OExM8lg4JkAOyEvPCtQoMUF7Pt6HKmq+PYLv46+3EJDll/Zp3b1a/uhh7O3/K1m1jcz5LMP3rndYb3+8//VCD48aMWxDUWaLT+6ipj172jq/+Z0/rv/SvmOb4G/XNzolV/cP5CTzelVVxtNykQzxoi3w8jD80qlZWlBhpdXa1NjuZMm1LnzOb1aphZVYbgiUJ2mA4AGHA/nQRglBxGMAeGDwnGDgdmVJcmxKSmM4YBw+AYG0GzA8B0xEV1joPo//OExOwuY8JkAPYQ3XgGQmGXzWg26w8BNMmJLKqXNSu3GK+cN01DcoKsw+L30tNS25JB1qrforXNdxys4c7vKtu5zPOYsz77xpyIrD9qk3SUEU/cblSXgBuGY1jnEkCqEFJBr/1+1BftW6DLTsmmn0Naqq601um9Cm6aluvWpkFpTNJaV1pUXqX1spamc0UyCDJ6nZB67oLqXdB67JspBTG5oB0gdPPw+/aRimSvpL2wDgQmCBlGewSkQCLmLmGB//OExOU0G854AO4a3WABg0YJycoRi4CbIk1tmAgImJ5LGCwCLehmGBCAM/kp2Ku82GMiAujRuxydXzAlimylLsxDD8q2b1WO67Wl/P/XYl+//dWkvf/Nzu940sy4sUf204UXS2pX7l0lssxfqw1CfSAHdHsB4MiiQpTv5fr69//m+fvG8Z+vXGtbgdn8PupJ8R8599UxJqLGhw7uOrZ+7Wv//T0vl5I/Y0+/c8zZz8+2Z7b1Sl66tfU+cS63Fh2t//OExMc4Y8J0AO6e3Zzj11jVb0+64x8TWtEiRLxgfqXiH7UJKfvpWmBSyUQO0EwPGo4/QEBEuXgL5AkBTBQMjRFezUoggwBzAwDkbzAEDDAoQTU4rCYdQwB11hcOFBh6ZYcXWo5DbogmMHhAdx7luIv7B0v/CvGYy4kY5nhMv5Y/VmGXghypjlKsKfuXMLtJ+etU2FTKkoH5d1812TtSJx99GQsPZiXhAAMustUAfg3w+gDIGaiGxWMF43g4+rf///OExJhAS95sAO6e3Vf2r/TV879PvEOW6dZ2dWqOPFatQZ3mmWztyOhkWGS7g17Yp2u2fqLSbGJpYW1h+/Z08/WK5wwbau1U+7zWx4ctIck0NtgQXzApIsC89t598Y1D3nFLRrZrV3Ca7XmbXvgmyZ9scPx19VW7WuQ+uQwGFzdR6Gjkiw2ZmIXCpjRVn0CUYmC0eQTJ1KNGOyyacFS+YddswgEZUnIgD2NFSOv9MpUkQOe1lLrEbfu1jrcqgmL7//OExEk2+9Z8AOae3f/6+H4b1Kpvu//8c//Wq1mnt/+q3ZZP5wyylZrb0LbOzXmVUntsQI144hCnMgiGK+KrlywPH/xr4x/X5pSv///zrFb4jTwbtU1GG8Rjxbf929jb3JhUjazw7ar/m9/fH3u8HVZPLSWEysd2y9N6gZxqm8YkxrdL0tmm6UhRpbf2zrGP/b0+IMk96Rn1muNh6f58OMMqGaoUORhWPGQgYr3jqLvLuGZycaYEyy5fLX7ABM3H//OExCAu2v6IAOaeuDBUNk2oeQhYsanUdgwxWL5QGuVsjTJRvV2wyent/rKVTdv//Gms9//x5b5//+M//1hTY18tijeWY1KJqOAOdO7fHshRxmQvvmuZW6Y4E1Y2bVvn////f//+fi994lpulJtNtZo966rCg3zLR810tLnP1vHrS2M73v7+97jbg0pGu9mFWMAc44gX60AmKn4LBh71mheDTn2AR3rD9dZ6uxJmIJwDMB1QR2GDpdJ+jQieQGoa//OExBcq+uqMAN6WuU3ckL/EIcyphyfqMOWMFghi5bvyeQX6ZphALBwRvJ/Knjry03Pz/6Duv1+Uqw5///65//E/04lFLGUqOkbQUq3FI/AeG8kpLEgwAsA4OoapqO04u737q2f//7qb3xDvfcP66llL1aLnJNe+HRMf8dbKmZQ5i4UXbz8f9ffUprbnf3z5tsi8gZvfO5ueim8sAKB6v3vKrXbfwYxExEiPROQwLXAsdlTipFGriJdB056ZgJpI//OExB4nUv6UAN4QuQM261mWy6Gk/V3QmXVqCGm5oDiLrjSHXzS+l6W8898lVW3/759fPu//6uf8TRIwzvGALAtBYKHjSZEWJrc0IjIlihYeb3NXSn3P7vN/8f9zH/8fPGy3yiwk/O01/2vV9ylpVaxbfWsjP6qpOwkfh13/d/qp4MIcqY796Y693vmqajBMIUyf9gJkzuem4G4DhmQeYwFN2SlMMHzKA8zgbSZUydV2qZ9TNOY+TVQqMOUA5Bit//OExDMnE8KEANvE3YooMBFBDQ6Riopajm8F8NZQxntsyHMzOf/rie1bb3mut6tnLC9pXGZC/HTE+81w+V2vXXxY2rIbNQ33KVk3P/3//NqXSuyf8z/MY2/pXM/RE/+aj0a5nY1NFBCjG3RBT+SjFE5sIKbcbyppEN09AhPSOJA/N5qVMWwhMFwfMLQVHgEWM/BAEwYCbLrFSA37bESQ04TJBtp4h63DvjsaKSi++YFA4GeJ8cIhaHIRGTlCTuDz//OExEkny8p0AOvE3E/hv1bHpuBTFI7+fXhy6m28peJAs/j7gPKYiU/veU5zEa0+VTmEIyMRDu7drf//9vS12z7+Z9m0X9i7MeRUI2+6/alkVCMzWdjmYwZjVIUUfEtA272V1ar6Pu3jQ1yGLTIYZ9RwsUmBRaAgODQAtkdASFxkRNAZUNSelvH+WtBJmk9uEt1TSt2W4UVbWW4aibBJqmjLu0UGiI5iAEGUpUMZ2uB2SrMJmjhB1ySYxt5mL3Ju//OExFw8JA54AOYS3V9PMvCu5ajsSCYjk48plHD0HR+1LYzHmtufyrRy+7SSXtI1LbIscoxibBQGJCjCcwFxWQMFVipFSB+/fd17//r593L3PvnVvQMXGcEGfZ7Pw89nWeWz/kggkOI9YJwTaVOMTWQOmq3sl9qTkaOCjZISMCt5G2SY2QHmjIJipCVJgQITabaOkfxJlqK+UoxlW2uPHi8Fsy+pnKIDKgKC0mAIIU0V/C4OvpakSDFiy+d16o58//OExB4vvDKMAOYQ3ZUc3t3+td94ed///CGef3etRhluHccty14wirqy3e4LjjDEo9UnZiw4aGa4MctXr9OQFeaUxKHe0kwuSNZZ5b3TyTLSKkg+EQ/ulIBQJ6HF7lhOCKvXSI0T8VFf/P/893pE+PqOkRJ5pN4NuoeImt4WLgZZAvQhkljklcjG0/UDGJZOIehQfJsSTIPDVKmSmLHMesbEjDqKmuNan9pX4g4c/LP/hgZJTkQMmAXQSKkFPKUG//OExBIlQ6qYANvK3Q0YhQtoL2XbB7nDX/+BAjf/0y+jb/xSSfH+YcjYhrjjyODmxHaqtPxPyHJUtuorWb6F+KdyimcUsrLq5Ost388fGXtYDwa52cTEx44g8PCwwOApzh0WYOMPdhbv/9f//T0Rr+Zfov53Y752Ib91fU2xnezdRpzGQq0jmN9bKyfL2PbqjF+rHIJQ7BZtOmXC0MWRIUYnnwCxer2/OYb1Iq7+dZs50t/83+v/5H3//y9i/79H//OExDAkc8aMANvE3crn3/kTrCW1UxYLQZpDD/XT/elIQo6Yt9WjK1le5r7wo0IVoDEytQaFEhgJyAzjGM7uUplbT///Zdv7mmyvN6PRUMrVdWlaZXR2e7P95sqPIoCyVLKWiWQwbFs0dlYUnlfyStfiHmyNZFAeMMAXPSi5BQaOwYEhcGAYDQXMPRlM8REVrilirHF2BwAvJ8YgFvIAtWtXCsM1y9b7xLr01bNoNafcNi3XVL9zmfPtvYEZdEpP//OExFEn+75sAOvE3RvLGgtiHRvrOq1x//61/0Sz3Y2zK7JV0Ldtfv1yWctfs9WzMqm2srIUrP+XJRy7vorVeVqLzNSa77sQNnOhgpFQxQTgwiX7pempQreNoi1dLUJplYWBAwdIs2Tx010FEhAQSAgwTBRDYwnJUwcMwxFABXMqjq0AIBi6Z0exfE8EsB0BVSMfRNjEhFReNFGA5DdSC0x6GN2t1rQUhLpddSNjJJTVmq00TNTO6nQtVb//VtLk//OExGQnK9ZoAOtE3JSoDIcpGZ12v7/7139Jr3Z9nXTZnptyzP3LS51NWpKqemlkYhtWqV3CMRTHRUOaVRxIsKvWsLivUkwEYmgKxgwAmsfCZmXBgsUhAUkINFxpRyHIn6ZqGIkAGnoCAABAgTIAYFpz/CHgWgTpksBfDQVJ/Krcs7xzVuveRr9LfcC98U1um4d//umsz7khx8x8YYLscut41fH+P//n/bWjKchkdrKjsRGu1k9P//0y26WTJJad//OExHonK8JoAOPE3cu3rp1oZnRtpn8hlLWjPumVkedxQYHdUil08XO7f36n+G7df5DembUhABqabmhBCnuj8FhoZyVBk0FmCAoyKQu2TAtastmX7j7EcStQhwXRspWSBEncLe9YVq51SuLfVZLb+/StpNXmV7xxZ8IopGyAPh6MA6DpY1U1hIGWeJGrA1uPTdbwNRuMFEsgaHdmkGDAaCIEgih+HBgwwt3Fz5d3c/////////+OftOPmq/+Lqe///OExJAudB50AOPQ3YS7m4pEjRP5u5qbt5gyHuEquphESXct1Pl97LcUHW54u6I/ETXE4xA4PaSesTZgBAZOPCoAscEgwEqjMDYxoIXyylFRFKJTl9rjiSytY7Ot0mfv49941uu7aramfLPTVIESuqNjJWJHiv1Ll8DkDkNJ6W5sMJXqlLkoJqpGk5GEiFcxuz2jxZHNe1XEBrKzyg6RMHBJFwyWQCgOg0PBQUmsw8WVzix25j17////vMNQ9/66//OExIkqi7KEANvO3ddV6G3YufZXVuuq7zFzmqnZWZHvlxsGCijnuMq9r4clEiq/YrzCpjck1YlDGJCpQ+qEzRmGGoxgKggUYpbDsX16Rb1Urt5nwXOHunjU+szXpTU0fdPOwRJIEcthOHqjNi7yO0kqJovtsQ7DIluyNhPznT86+dKvY4cKM8eP5MvGSmjC4oKCgsND4uJigdCYmJhJRhCD2YhCD+i9f////3bb6ev37PPkZLo3v79UqrJ6M6Ld//OExJEn6/aUANPK3VyovKlbORqsKKTT/T6FJe8/G2Z3Sljk/DZlWgRQiAo5uZCkKhbsYZZxWf1dhmVwxObqy2PSznKtiG7eVa1dq38rWc67c/jTTbABDDxLiYBpkqP9Wry0yJdBOStel+OxqJ6Ww70MIQn2pniNa27evsPIUtI+IsCKxTN+oUGBh1aPNuSDmewHABIsTpb/Vp9Dmb3urbQEBMIDjC76PWzdXYhxpSpcSLIGZzYlasM/zlBgzgk8//OExKQm2dqgAM5emJvKmZ6YKmXrl1FkxkbMdPKz8eUnT5cxutpY3+pdFKfXKruu/L8Mcn+ficr5TLcm0nsI8aYdCsiQ4KSQ9nnkgsBzq+K3oo51IwQaxjSQhkmvFjPIlpGaLHf2kcp6UzK6n/tCniU1jEe976gnC6qBZtlP8IFWrAwSgGLlXSx0uaFIevIo4pjbBhKpoxZwBFlFTLnknqbX539R9aAPWRS7VeIcMgdewfGu9AJ4aFQjX5tJTQgT//OExLsnOeqkANZemJz60Fz//8qbpLOflVbtFL3OZCch1uczwaIiZYIj2AhyfUDy23q4OdntfJupJCMoaXE4EHTNIzW8h3puFHpTfhQ8Q61gwqw4L2z2eBa15j8OnHkkAEWa8QsNqaYLTaDz2GYqGGlmnSrDwKlgEeETEtpq9OzQhBmJRRJy7VautCreFm04BirR2ILWLcE3zI5TvGCJHnKbCKRgjZEJrXX65D/DJtRsViyeVc+MPY02R41KwvhD//OExNEnCdKgANYelM8G6CjwfIshxuPYT1Las4knh0g6w4YY2C2FDBRoXrJe8mS+ucXF8Nyq+/ejLXdzyAPjjjEG4WLusiFQy+pQl6HZ8xWZ863R/m/R1a6Gzs8jd3R+k3c9DzWYw8oLlLGHDpG5pppY5tDv/r/+prXHTYcW3Z+HZcUc2C1sMVg6LkgUcCzgAKRLaDAAIBzHiESITAQJr7+REuq60tkkdWCUJ4kmQdForCMbkQSjoCTQJDsVQRJg//OExOcrK86MANPO3RIjDyJQTA2TorQ4601G16NmrTtYDJG4mjIQHVC5mtz2m+9Xpg/ttlc/PEhIphEaOKKkKdUVGUxrmveyFkdTLe+vKu3s/dUaaQXQr3HHaeV3llVqnCQsZBVFFmotykRyIR1GSOQjNPs0iMacymKURRziRmKTitmeSyqVTxURUW9k1t9ASNnHkEDN0mpIWqafXxppFF6a7Hpzp4o8ki0/fehP4XnIisTtril1Vv9yyq7GcnZd//OExO0t9DJ0ANsK3dYpBEcLX32Gkb+WedYq/BX3rdP3plNrmXmmoFsm28pGWibrW3/vmXueZa2X21/8e/FshT5GM5hdUQi6hjcYs74kfGRHMKhNzbStT7VWubQKyhFYPJcjRrpdxL4RABkpngUubokfPIkVq5IoAg79hqJaB0YL2bemOA2qnXi6cYxSZ9DUTiRBeLl5wzIpposXjdDIorclMhxyuIj6SAJro104qRVOIpnxIiXnyddSRXZMGpyc//OExOgtLDpoANsM3H7PSdJCbu/K7XjrntTq2upcmP/LJ1dQ6i2qI5Ou3z5/eM/xv8ZvnfXjvON9fxH14bXePN2xiu5vf7UZz1j6xA7V9rrZMCtWkuoxPToYrVLhjSi5tmSmzQrYqtJGeIVepKVXAqPNJEoZOMdFN2VJ+ZT03shdkkmZCnufSC4CFC5yLC6V3wpowkQeCKwK7DsP5jdn6tfPRJCZxmYFMOBAK4vM4yoE94HROOT9gsGcK+JtWS0S//OExOYqpDpwAMpM3ObbPFikzuwcecLB0OMsvyW684xraNZsd337Y5np43I0NiKzchLxMjQsuE38WrBHwoVtQoSEiuirSJHdvgana1kQispN6UEUJQ5kgt6lADxaJSocOIVrjNnTdzgwQiomKCRjgUocUBUQToAEEw4OJe3zwq5V7T2ImICh9lMAyOEuAF1SNEV1LVZX4xs8nJBezJWNH0rFCxx04ZC+NwXUcaCLYrZkpOThCFYnGN+/bVHBV1Ft//OExO4rnDJwANMG3U6OYoCrcFe4VV8eNHhK9tXcOdk3pkfvmesB44SRdTeA4SZFDBDCgcLJMrxH/ySvnbT80Ip2zM0HcyRICBkmpPTv7mP6D/wQm9TlMmqE1K4TzyKxzb1FoggnYp8MiciSvX8W45wAOogptiQH8c/NJpV9I1Ry0R0A94vk/7S3vMQ1FGNRiUwDG4pU1ayeR6VVOYV2JnI2QdAMqFCYD5I8DTdpRhPxHK5CjvdDqQmAyo1CJU9A//OExPIrk8KAANPG3UNJUf5OUyoFNFRStV1oimpVNscJ6XBsb2JgOlqfSQLuD6aFDi1TC0jUDm5XcmXdGTFnwXBsPFQrZq42Nu7aNn6zP5/i8udqZp27yZ62CrrcdV/Nm/wPlflmxua2bnyov126vjygxeAalM+q3XzMaT+2Ff7RXN0989bHl3fHM6glVZqnlcgc4QSjEBUcpiWlQApmGE5dDEPT8MI9w1t5FePLtbLk/z2O1IKIth/kPNU7CMr4//OExPYw5CKEAMvM3QlspcWQtrtcJVuqaR8IeqlVdQHqpUIa13Z8xT0nw+vt9JBiQbRCEDKLEkKzKFYSqiFOgh6GLM9Ks7An3La7yG2ZHbr6fRurapf/YypRX0ojslt26dWzStaZ0HTn1uYoJCrQoT1tJSpVqDRVd+Jy6ML7MRT42eBos9jAyQHGe6ScoLSp484a9QYAmh3rXKyfySMaxrR8RiwBHaLOIEhgQcqV/YNUNAEpwSBkb/plMjAKZxuu//OExOUnM2qMANPEvBNmXJBJloj0ETikhU4L+K5pZlw4aZA7tPFY/MKYPlXnKeVPUnzK69iIo9s3tc7bl+G8bN2n0RArBBd2OHKZTkJoX0/+n79v6+mn70/7VRUWYqF301L5ruVgESGjqCFK4pRARVVHDKHQ7MzzEOZjB1Ptup8+wSFgeNc8QSfIAMjBYKiMHEC5u6kC6BgPgemAEi2YrQQIQDIhW6jxjQAcNTMum2fpJN7Q42ogY4K5Mht08wLD//OExPsvu+Z0AOZE3dp67Za3Av4aZWHGWHKdtCLxjD44aw0IxlSZxfYj8k1R2K5ANMOrO6SBokuYgnAgoxi4i6NFWcp4tWlVGIhDLrtjL/ooxzBd5dRMljSxm/kyOBgQqsDaPpDrLkgG2mAqhYEzCyHeJ+C1iXgOcYxfC2AhAKwA6BPyVC2DIHoMGzJprSRX7d11e+3/9SmWnVr/T9VaVJTMitPdnSqejdnY0Uio8sunkDqBqkiWJGhszlIcJs5P//OExO9EJDZoAPaa3FjvHYs1MD5DJRzcuSRHGiouEsPg9C86KJgdN0VKMjBkCUppqzpSxIABk5KMh5YITpSpYYJMphl1GMwmNBhocCKVsWpbfMGkxm9lyJudQZ8yxf6vf5G2VS2mtULhpGpWwLKsGYIyhgKWzePso+sgtMg88QIQNAE4ozSHSQCxxtIGS6NM1ZKsQdHR2Zs9CgCKiyXcik/BbO2kMSZdBkHOA6aKLOYLZevIHkFtCfgTMKwE5EaC//OExJE9jDp0AOZa3BjEE/BSwB+BJRpBOxTEII2OE1LTAxUp01Mpqv7/+/+1Vdfs/pqZlMgmZJy+ZGiSadrMvrdTun2XSUpamRWipSjykEDRE+bIzclzMsLxgZLL5sYmZiXzhuYGrmj58vu5mlQTUgbo1X2aHA7oiwDOLHVgLJY6SAAhQ4dXSIARaTS9NCY3j+U/f/eo53//U/3W7bWaH91pTe79e5Q2fwpI478izo0qFbA4kefBFcEgLVtO60VJ//OExE0yVCp8AOYa3cIDqDNClT6qBM9pZinfWDIGl9JH4Kh6GtUkB0kKkdgS8OQE1Dq4lgdxUAaQQ47CSE1HKRxPyomk4hDkNTLTWzf////qZ+9/fpfrpOkuktSkVK/ZVeq+tup1n600TapikiSyCBmXjVI4YHy4ZH00HWg901orpMi591rNVPqVcpoDTmSmEyieFqRICi2DJUwTE5TOhCmAYLla51xPZhW1LC9R5FYrC3bjv37HNH93igMdD0Pc//OExDYyxCJ0AOPa3dgLrDT6QJYXdGsTKTsM8GrZoMIIcKWAMpBxQ89wDlAJ5EiYh8gnjys5Wi28OBDYp92dMapzEzHMlwfFEmjxCLD2HAOMrExQJxmkeEmHsSJWwwtR0klnHW1T/////Xd2//2U+tWsyPIs9lK1a/UyrT6N0nZ1o1IoopKOoImZiUyozHaXCSTXVdnTZnSQZaTJpLSnIsIOZS+cMo/mEcGaSOpMeUDzAgOMwmk14sTNQLLJBQCD//OExB4pG75sAOMK3cJE1qsZwxiz/LkAOoVkJnVcJSYQTwPiSPpieiEPxktXGJ6OsDY4orFVmi5tp6Gmy+7Q6wrD9c+3Lfn0XdnfWuZtrT3fo4SCjQ8LKKiI6VzCQk4iImHpUvdH+3mRW17fW3v1/pTzoZD8WSlFe6m7GrKtny26Il7PR2sAxxVnhPXkvJBZOuxrKgAA1NlThUCHHtYgc1FCWFEgTStcrIMTFZJLoszI9UtvIP9Vx2Qc5FKZmcW1//OExCwj6a5cAOPMlVsuG9d6Yp5Ge8+Yc2/F6dxOPvFJRr/aSDpeaaPT3u/pbnf/MatNfGbJzxBL7KDW5XfN/+//f+qP0O/e/3W7fm2+9jRwU3E1Fo6JxTFU3r2u/3uw4FZFehU1lbc5UVuAmrYq4z0aAiSbLwCHTw9zMZASXFYBMsTIymCyYBJuiAYGiAlE5C6gD8mzYXcJGmHhyUOQfSsG4Nw4T/MuVC1dCZVPG3aDPJEiwcpnkxXisLMLppd1//OExE8mSZpcAOPMlDnhbNrOUhjxfrs0v7P1CtLrTIOnzx9dg8uhYtQNJGhDnwiQQToyZCECdQCqHi5aQLjCYuNJ1tEdw0yEYgDB60OrtYTDeaHGLxSLqiEFIJ1HAueTDqoMGheClBTI8wMrixHUaBRjpZGGgugARkMFAwxMAlyS0Lg9Gps82IXgb5E1RoQAOXiOiG7cQUN3rDuLseyo/i5G0o8LtPKMM5L9evKMfyvVcMOWrPyWfsW3rXfAuuxu//OExGgvu/5oAOYK3d0+o3fqYbr29XJZhP09uxlDeg4HAEAAAEYPMJh8cIIIPKhjo/apCEIzN2qrd7ey0t//b2otFIS9zicrnJMQTOYpGT8qq6tPfIR56djprV3pXSji9gRAH4s7bKzBQCOIAoWCDjF9TAS1BQcUBHAEZFjwVCS2mbGCxUUIhd6mZf05jG0iCMp0CRh4E0RWkfJRjSrEA4QO98TghQ+FzENOHP9lMVd+/92R4401WfywifccspXd//OExFwvkxJ0AOZWuMKIfzARXgkAPx5AfmwI4/jQWEBJIXHxhsw6OxUtcOxhmShQUFZq0sKKXJB6slvdTYupe/duuqmXff////9/3wzt/H////DI4ZL76hjmc8pnxYfJgXr0WvegOsclRHWJMVC61YFhpZIXYHZyqDQWygznCSxNNQx84igq/ZiIEgRXlrTxAInzDs69ZqhJ0MdeYx8RoR9U3GOHABAOS+VUre5JDtvkYlkK1nXnO6t3Mtaq/veN//OExFAnyvKAANZOuKzz8iaQYDgDhUYIoARwLxHB6cVKiM5cwaGHsKCZQ0UiMWDjgjFhEbjYdMc9jZis/7L////+dY5E6/652aTUxpE1JkoJXERSe//p+nqvekcqqyt8jAzs9cgJhOBAuBEKHbgJiwUSWcvchQY+SJHUb6A3TKM8RTYcFmr7DCULIRULdEkzMlZjWAIsHHp55kT8WsGxQ53cl7z8sOb7b7/2O/9XeUIDCgkGD48JYNQ1IiMKacUG//OExGMogvaAAN4UuCXMYYntFxKh4ghNHxxpc02Tc18592+lGP//9lUw9EY6dnb/+qmsYlCBTWNIhIZFUD2KVVX/9YVuWThxQYB8H6Gceoh2ggw8cQEIk9YZasAJSmNUDwOHXeMDWO4wGkm6t6JjA2uxW2n+rDSX9KbS7J32RK6gmkRPUhLvd/lIkO39UZ8IpfpP/62/JxmkiaZTAUQvPJpu1Jrvg31q3Z29+hoJjhd4ofFw8oN2qknfqVAzzvo1//OExHQiqZqEANYSlD75k6edf/+rfaXCwjAaAbWYQKLIm7itaw4bpEE6b0MmGgaXwjaTIRhMsYBTLUc2YZaHYGEAtz706h6bE1EJtMqRy3NiNi5TP9R/LHVmJqJrKg+HXtVOg898Ow1N2alWl1umvV1+Dt4us0QhsigThUSCO5qsHJjWuqk1xOpIcmwzHbDahiDpWB+LDzv/0U9b+1GJStTSqCX1d/f/g0kFBMTAbgkWDIBAx0tQRMQBDwJGLg3n//OExJwkueJ4AN4QmE8ZxgOBhgmABhAJZhkcQkWZhUFZiMPJkIHZMORb1NJTZLujT1SRTkOZdnSumKKuFFGV1tRU9R9CX07BUJlDBQ9lboWO1RptxdQ4OLwa5xr7+sW1vL15WK+3v29tb+P8/45uWzyjIoCeQVe/T/T//5tejpbzetKcymNz2ZH//T9qt6fv/7GnRUiXDsCkWbICip9gfGpBCYFgQYIguYtR4ciLKYaCUEAOYHFga6M+Ypgmm6Sg//OExLwnE+ZcAOvE3SmE51BgjQGzgEAgmtuYVQcmR+ih4vIW3UHTVSF6vr7s9jWlPQNSuan4oXGIwMTuPRYZrUmYZaYlq6r8RpZH098Yxv51f/ft//ZUZTWZzdDqMiqu30p9r/RVbtUnfKyobT7SatShq0Mlfq0zaF7pnZ/bN2y7auSt2DHQ+N5XmO67c1UwEAkOC4BBCY7xgefsiBlaAxMAUsDdMdjDgNhgBDAYDDF4sQaA4kAbYCCFgLGdYmSB//OExNIoC9pMAOvE3U4hCMTVY6LVkSkJ7LvMXfrJNJHVam0DQNmUoPCiDhcULEohdZZpe0luL1j2N5+/nr/j47iYaOmeMbT1VvTQDdMzLudJJSGmn6nQu0TFhIbCAXFD7mK9LipaWFB4FOZoqwnQoqwWAhp5ZZBFykowFADDAhAhMEoCQwswhzEzSQMY8BswNAPDCNB3MB0fcwrQXw4IAwKwDjAvAaJAPBYBotV5uEeHWrR6wCY7ReMR7JiO9a9q//OExOQnacJIAOvQlNcoO4FdVg3tZWJ06VUw4YDdZarEoEqTNAkjr2YONtE80ZWT93H/be3t/OesdmSnDOCuVgSTlpZzQlN0eP+z/PbZ+cI+8JyzX2wCrsfXN+k/ez/5Hx8ARualnHdkT0D7kCMTNBBKHkYj9KdO0vUwPwJTAWAxMCMAIw5iczSaNBDAuDAZAzMIAJ0wuAbTAVADSCMAcAkwFADw4BlCptmtvcQweoI8JkY55QUmjY7i3trMzQ8Z//OExPksmcI8APPMlWlrtGhv7wkewthzO3CBpuV08XxXGDGhR47DEfRqxmLdvNF1rWJyBa9djZyikM6yiYYscBBgqHWyHnlmeXc4gjMp+vOewo79vgnsLI7+irrygImO5TmzZESlGOFtDJRPQFS5+vuv0M4hFhinwg1DW4a5q0KrgSNeugKLDMqSNEkwyCwjtOuOysYyePDIosKwSYFDBhkLGEwMXGSuYSg6umUF9Bsg3Thth9Khsbyp1DXGFGgv//OExPkva4YsAPPGvZXJ45jqcpFczMKti+E+jbrmCwq2Ll7qu/aE+jbwxPa4fPt+sE1Vfy//5VPjM4CRxqq7M1wwEBMBAQEpfAzfVCqql///9VYBHs2x/7MUPjMaszGqqQYKJXjAQpi1VVVVZqqrxv/6oCwUFf/TSoL/BvhQK7or+isoVQYEZEjOkQqNXrEn1lE7GqGWSd+XadFuTImYt2bKNAXg4D4KDQPZILaAfLYLvMsPuvMwN3nnlp0cl4pl//OExO4sm4oQAOPGvdLxTSJ0idInQ0Jul6bmswN0jdtDmT9bMtQwQQwbkMAMEGBggYQGCBggQMI4zLLfitQVs9WCggYUEDCOjy2VDL+ykatZLK1BAwQKyyyxrKn2SoZMstllllssssBgwVRyP7MjWWf5q1ksssBgpUO/lNKqTEFNRTMuMTAwqqqqqqqqqqqqqqqqqqqqqqqqqqqqqqqqqqqqqqqqqqqqqqqqqqqqqqqqqqqqqqqqqqqqqqqqqqqq//OExO4q6/UYAMMG3aqqqqqqqqqqqqqqqqqqqqqqqqqqqqqqqqqqqqqqqqqqqqqqqqqqqqqqqqqqqqqqqqqqqqqqqqqqqqqqqqqqqqqqqqqqqqqqqqqqqqqqqqqqqqqqqqqqqqqqqqqqqqqqqqqqqqqqqqpMQU1FMy4xMDCqqqqqqqqqqqqqqqqqqqqqqqqqqqqqqqqqqqqqqqqqqqqqqqqqqqqqqqqqqqqqqqqqqqqqqqqqqqqqqqqqqqqqqqqq//OExEwAAANIAAAAAKqqqqqqqqqqqqqqqqqqqqqqqqqqqqqqqqqqqqqqqqqqqqqqqqqqqqqqqqqqqqqqqqqqqqqqqqqqqqqqqqqqqqqqqqqqqqqqqqqqqqqqqqqqqqqqqqqqqqqqqqqqqqqqqqqqqqqqqqpMQU1FMy4xMDCqqqqqqqqqqqqqqqqqqqqqqqqqqqqqqqqqqqqqqqqqqqqqqqqqqqqqqqqqqqqqqqqqqqqqqqqqqqqqqqqqqqqqqqqq//OExEwAAANIAAAAAKqqqqqqqqqqqqqqqqqqqqqqqqqqqqqqqqqqqqqqqqqqqqqqqqqqqqqqqqqqqqqqqqqqqqqqqqqqqqqqqqqqqqqqqqqqqqqqqqqqqqqqqqqqqqqqqqqqqqqqqqqqqqqqqqqqqqqqqqpMQU1FMy4xMDCqqqqqqqqqqqqqqqqqqqqqqqqqqqqqqqqqqqqqqqqqqqqqqqqqqqqqqqqqqqqqqqqqqqqqqqqqqqqqqqqqqqqqqqqq//OExEwAAANIAAAAAKqqqqqqqqqqqqqqqqqqqqqqqqqqqqqqqqqqqqqqqqqqqqqqqqqqqqqqqqqqqqqqqqqqqqqqqqqqqqqqqqqqqqqqqqqqqqqqqqqqqqqqqqqqqqqqqqqqqqqqqqqqqqqqqqqqqqqqqqpMQU1FMy4xMDCqqqqqqqqqqqqqqqqqqqqqqqqqqqqqqqqqqqqqqqqqqqqqqqqqqqqqqqqqqqqqqqqqqqqqqqqqqqqqqqqqqqqqqqqq//OExEwAAANIAAAAAKqqqqqqqqqqqqqqqqqqqqqqqqqqqqqqqqqqqqqqqqqqqqqqqqqqqqqqqqqqqqqqqqqqqqqqqqqqqqqqqqqqqqqqqqqqqqqqqqqqqqqqqqqqqqqqqqqqqqqqqqqqqqqqqqqqqqqqqqpMQU1FMy4xMDCqqqqqqqqqqqqqqqqqqqqqqqqqqqqqqqqqqqqqqqqqqqqqqqqqqqqqqqqqqqqqqqqqqqqqqqqqqqqqqqqqqqqqqqqq//OExEwAAANIAAAAAKqqqqqqqqqqqqqqqqqqqqqqqqqqqqqqqqqqqqqqqqqqqqqqqqqqqqqqqqqqqqqqqqqqqqqqqqqqqqqqqqqqqqqqqqqqqqqqqqqqqqqqqqqqqqqqqqqqqqqqqqqqqqqqqqqqqqqqqqpMQU1FMy4xMDCqqqqqqqqqqqqqqqqqqqqqqqqqqqqqqqqqqqqqqqqqqqqqqqqqqqqqqqqqqqqqqqqqqqqqqqqqqqqqqqqqqqqqqqqq//OExEwAAANIAAAAAKqqqqqqqqqqqqqqqqqqqqqqqqqqqqqqqqqqqqqqqqqqqqqqqqqqqqqqqqqqqqqqqqqqqqqqqqqqqqqqqqqqqqqqqqqqqqqqqqqqqqqqqqqqqqqqqqqqqqqqqqqqqqqqqqqqqqqqqqpMQU1FMy4xMDCqqqqqqqqqqqqqqqqqqqqqqqqqqqqqqqqqqqqqqqqqqqqqqqqqqqqqqqqqqqqqqqqqqqqqqqqqqqqqqqqqqqqqqqqq//OExEwAAANIAAAAAKqqqqqqqqqqqqqqqqqqqqqqqqqqqqqqqqqqqqqqqqqqqqqqqqqqqqqqqqqqqqqqqqqqqqqqqqqqqqqqqqqqqqqqqqqqqqqqqqqqqqqqqqqqqqqqqqqqqqqqqqqqqqqqqqqqqqqqqqpMQU1FMy4xMDCqqqqqqqqqqqqqqqqqqqqqqqqqqqqqqqqqqqqqqqqqqqqqqqqqqqqqqqqqqqqqqqqqqqqqqqqqqqqqqqqqqqqqqqqq//OExEwAAANIAAAAAKqqqqqqqqqqqqqqqqqqqqqqqqqqqqqqqqqqqqqqqqqqqqqqqqqqqqqqqqqqqqqqqqqqqqqqqqqqqqqqqqqqqqqqqqqqqqqqqqqqqqqqqqqqqqqqqqqqqqqqqqqqqqqqqqqqqqqqqqqqqqqqqqqqqqqqqqqqqqqqqqqqqqqqqqqqqqqqqqqqqqqqqqqqqqqqqqqqqqqqqqqqqqqqqqqqqqqqqqqqqqqqqqqqqqqqqqqqqqqq\" type=\"audio/mpeg\" />\n",
              "                    Your browser does not support the audio element.\n",
              "                </audio>\n",
              "              "
            ]
          },
          "metadata": {},
          "execution_count": 3
        }
      ],
      "source": [
        "from IPython.display import Audio\n",
        "Audio(\"/content/w.mp3\")"
      ]
    }
  ],
  "metadata": {
    "colab": {
      "provenance": [],
      "authorship_tag": "ABX9TyMq/TBcT29dOwdugaTwkjBi",
      "include_colab_link": true
    },
    "kernelspec": {
      "display_name": "Python 3",
      "name": "python3"
    },
    "language_info": {
      "name": "python"
    }
  },
  "nbformat": 4,
  "nbformat_minor": 0
}